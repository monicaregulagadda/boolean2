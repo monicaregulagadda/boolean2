{
 "cells": [
  {
   "cell_type": "code",
   "execution_count": 3,
   "id": "89d9ae27-fcbe-42f0-9b42-f7d4192311cc",
   "metadata": {},
   "outputs": [
    {
     "name": "stdout",
     "output_type": "stream",
     "text": [
      "1\n"
     ]
    }
   ],
   "source": [
    "#define a boolean variable logical_tracker as True\n",
    "logical_tracker = True\n",
    "\n",
    "# performing a '&' operator between logical_tracker & logical_tracker\n",
    "logical_tracker = logical_tracker & logical_tracker\n",
    "\n",
    "# performing a subraction logical_tracker - logical_tracker\n",
    "# again performing '|' logical_tracker | (logical_tracker - logical_tracker)\n",
    "logical_tracker = logical_tracker | (logical_tracker - logical_tracker)\n",
    "\n",
    "#print variable logical_tracker\n",
    "print(logical_tracker)\n"
   ]
  },
  {
   "cell_type": "code",
   "execution_count": null,
   "id": "62c69ca1-8329-41b1-b643-bb13f4c96dda",
   "metadata": {},
   "outputs": [],
   "source": []
  }
 ],
 "metadata": {
  "kernelspec": {
   "display_name": "Python 3 (ipykernel)",
   "language": "python",
   "name": "python3"
  },
  "language_info": {
   "codemirror_mode": {
    "name": "ipython",
    "version": 3
   },
   "file_extension": ".py",
   "mimetype": "text/x-python",
   "name": "python",
   "nbconvert_exporter": "python",
   "pygments_lexer": "ipython3",
   "version": "3.12.5"
  }
 },
 "nbformat": 4,
 "nbformat_minor": 5
}
